{
  "nbformat": 4,
  "nbformat_minor": 0,
  "metadata": {
    "colab": {
      "provenance": [],
      "gpuType": "V100",
      "authorship_tag": "ABX9TyPeNYqDb8lx/oMSb6ra8M8i",
      "include_colab_link": true
    },
    "kernelspec": {
      "name": "python3",
      "display_name": "Python 3"
    },
    "language_info": {
      "name": "python"
    },
    "accelerator": "GPU"
  },
  "cells": [
    {
      "cell_type": "markdown",
      "metadata": {
        "id": "view-in-github",
        "colab_type": "text"
      },
      "source": [
        "<a href=\"https://colab.research.google.com/github/KazutoYamada/Image_Recognition_for_PoC/blob/main/Image_Recognition_for_PoC.ipynb\" target=\"_parent\"><img src=\"https://colab.research.google.com/assets/colab-badge.svg\" alt=\"Open In Colab\"/></a>"
      ]
    },
    {
      "cell_type": "markdown",
      "source": [
        "PoC段階での不良品検知用画像認識モデル（Pytorch）"
      ],
      "metadata": {
        "id": "DC-l0kUCURcm"
      }
    },
    {
      "cell_type": "markdown",
      "source": [
        "1. **Googleドライブと接続**"
      ],
      "metadata": {
        "id": "wRI_0WBhTx4E"
      }
    },
    {
      "cell_type": "code",
      "execution_count": null,
      "metadata": {
        "id": "Kqor9MhBbfew",
        "colab": {
          "base_uri": "https://localhost:8080/"
        },
        "outputId": "d58c3847-3a83-481a-92b6-17293e81e34f"
      },
      "outputs": [
        {
          "output_type": "stream",
          "name": "stdout",
          "text": [
            "Mounted at /content/drive/\n"
          ]
        }
      ],
      "source": [
        "#コラボのマウント\n",
        "from google.colab import drive\n",
        "drive.mount('/content/drive/')"
      ]
    },
    {
      "cell_type": "markdown",
      "source": [
        "2. **ライブラリーのインポート**\n"
      ],
      "metadata": {
        "id": "a2DAYH0WTvJo"
      }
    },
    {
      "cell_type": "code",
      "source": [
        "#ライブラリのインポート\n",
        "import os\n",
        "import zipfile\n",
        "import numpy as np\n",
        "import pandas as pd\n",
        "import matplotlib.pyplot as plt\n",
        "from PIL import Image\n",
        "import torch\n",
        "from torch import nn, optim\n",
        "from torch.utils.data import Dataset, DataLoader\n",
        "from torchvision import datasets,models, transforms"
      ],
      "metadata": {
        "id": "tVc5eFXwcWIz"
      },
      "execution_count": null,
      "outputs": []
    },
    {
      "cell_type": "markdown",
      "source": [
        "3. **学習データの整理**"
      ],
      "metadata": {
        "id": "dFT6J5mKUnI9"
      }
    },
    {
      "cell_type": "code",
      "source": [
        "#学習データのzip解凍＆保存\n",
        "data_dilectory = \"/content/drive/My Drive/ManabiDXQuestPBL02PoC/\"\n",
        "files = os.listdir(data_dilectory)\n",
        "data_file = \"02_PBL02_data/\" #読み込む学習データのあるファイル名\n",
        "\n",
        "if data_file in files:\n",
        "    train_file = data_dilectory + data_file + \"train/\"\n",
        "    train_data_file_list = os.listdir(train_file)\n",
        "    all_data = []\n",
        "    for train_data in train_data_file_list:\n",
        "        all_data += os.listdir(train_file + \"/\" + train_data)\n",
        "    if (len(all_data)) == len(set(all_data)):\n",
        "        print(\"ファイルに重複なし\")\n",
        "    else:\n",
        "        print(\"ファイルに重複あり\")\n",
        "\n",
        "elif (data_file + \".zip\") in files: #zipファイルなら回答\n",
        "    with zipfile.ZipFile((data_dilectory + \"/\" + data_file + \".zip\")) as zf:\n",
        "        zf.extractall(data_dilectory + \"/\")\n",
        "\n",
        "else:\n",
        "    print(data_file + \"のファイルがありません。\")\n",
        "\n",
        "test_files = os.listdir(\"/content/drive/My Drive/ManabiDXQuestPBL02PoC/02_PBL02_data/test/\") #213個\n",
        "test_image = Image.open(data_dilectory + \"/\" + data_file + \"/\" + \"test/\" + test_files[0])\n"
      ],
      "metadata": {
        "id": "-f-LJTh1boQP"
      },
      "execution_count": null,
      "outputs": []
    },
    {
      "cell_type": "markdown",
      "source": [
        "4.**データの前処理**"
      ],
      "metadata": {
        "id": "vayUN0NQVA4I"
      }
    },
    {
      "cell_type": "code",
      "source": [
        "#transform作成\n",
        "data_transforms = {\n",
        "    'train':transforms.Compose([\n",
        "        transforms.Resize(256),\n",
        "        transforms.RandomVerticalFlip(0.5),\n",
        "        transforms.RandomHorizontalFlip(0.5),\n",
        "        transforms.ToTensor(),\n",
        "        transforms.Normalize([0.485, 0.456, 0.406], [0.229, 0.224, 0.225])\n",
        "        ]),\n",
        "    'val':transforms.Compose([\n",
        "        transforms.Resize(256),\n",
        "        transforms.ToTensor(),\n",
        "        transforms.Normalize([0.485, 0.456, 0.406], [0.229, 0.224, 0.225])\n",
        "    ])}"
      ],
      "metadata": {
        "id": "4p7EQmkWOy1n"
      },
      "execution_count": null,
      "outputs": []
    },
    {
      "cell_type": "markdown",
      "source": [
        "5.**データの読み込み**"
      ],
      "metadata": {
        "id": "GrXHFhNvVhzq"
      }
    },
    {
      "cell_type": "code",
      "source": [
        "\n",
        "image_datasets = {\n",
        "    'train': datasets.ImageFolder('/content/drive/My Drive/ManabiDXQuestPBL02PoC/02_PBL02_data/train', data_transforms['train']),\n",
        "    'val': datasets.ImageFolder('/content/drive/My Drive/ManabiDXQuestPBL02PoC/02_PBL02_data/val', data_transforms['val']),\n",
        "    'test' : datasets.ImageFolder('/content/drive/My Drive/ManabiDXQuestPBL02PoC/02_PBL02_data/test', data_transforms['val'])\n",
        "}\n"
      ],
      "metadata": {
        "id": "59pGwJeDeFRO"
      },
      "execution_count": null,
      "outputs": []
    },
    {
      "cell_type": "markdown",
      "source": [
        "6.**ハイパーパラメータの設定**"
      ],
      "metadata": {
        "id": "5EmKGM8_V05X"
      }
    },
    {
      "cell_type": "code",
      "source": [
        "#ハイパーパラメータの設定\n",
        "batch_size = 16\n",
        "epochs = 15\n",
        "lr = 0.001\n",
        "devise = torch.device(\"cuda\" if torch.cuda.is_available() else \"cpu\")"
      ],
      "metadata": {
        "id": "eJikpnmg-Acs"
      },
      "execution_count": null,
      "outputs": []
    },
    {
      "cell_type": "markdown",
      "source": [
        "7,**事前学習済みモデルの設定**"
      ],
      "metadata": {
        "id": "e6AXlpSPV5g9"
      }
    },
    {
      "cell_type": "code",
      "source": [
        "resnet_model = models.resnet18(pretrained=True)\n",
        "resnet_model.fc = nn.Linear(in_features=512, out_features=4, bias=True)\n",
        "resnet_model = resnet_model.to(devise)\n",
        "loss_fnc = nn.CrossEntropyLoss()\n",
        "optimizer = optim.SGD(resnet_model.parameters(), lr = lr, momentum=0.9)"
      ],
      "metadata": {
        "id": "Y-qD-_cYYHcC"
      },
      "execution_count": null,
      "outputs": []
    },
    {
      "cell_type": "code",
      "source": [
        "#訓練済みモデルのロードと要素確認と変更\n",
        "image_dataloaders = {\n",
        "    'train' : DataLoader(image_datasets['train'], batch_size = batch_size, shuffle= True, num_workers= 0, drop_last = False),\n",
        "    'val' : DataLoader(image_datasets['val'], batch_size = batch_size, shuffle= False,  num_workers= 0,drop_last = False),\n",
        "    'test' : DataLoader(image_datasets['test'], batch_size = batch_size, shuffle= False, num_workers= 0, drop_last = False)\n",
        "}\n",
        "print(image_datasets['train'].class_to_idx)\n"
      ],
      "metadata": {
        "id": "DQH6IsSdcZz1",
        "colab": {
          "base_uri": "https://localhost:8080/"
        },
        "outputId": "bb5f4cbe-ebe3-436a-e2d2-58946fc95095"
      },
      "execution_count": null,
      "outputs": [
        {
          "output_type": "stream",
          "name": "stdout",
          "text": [
            "{'bridge': 0, 'horn': 1, 'potato': 2, 'regular': 3}\n"
          ]
        }
      ]
    },
    {
      "cell_type": "markdown",
      "source": [
        "8.**モデルの学習**"
      ],
      "metadata": {
        "id": "SoV5VW5hWGkU"
      }
    },
    {
      "cell_type": "code",
      "source": [
        "#学習フェーズ\n",
        "for epoch in range(epochs):\n",
        "    for phase in [\"train\", \"val\"]:\n",
        "        if phase == \"train\":\n",
        "            resnet_model.train()\n",
        "        else:\n",
        "            resnet_model.eval()\n",
        "        total_loss = 0.0\n",
        "        corrects = 0\n",
        "        data_size = 0\n",
        "        for inputs, labels in image_dataloaders[phase]:\n",
        "            inputs = inputs.to(devise)\n",
        "            labels = labels.to(devise)\n",
        "\n",
        "            optimizer.zero_grad()\n",
        "\n",
        "            outputs = resnet_model(inputs)\n",
        "            _, pred_labels = torch.max(outputs,1)\n",
        "\n",
        "            loss = loss_fnc(outputs, labels)\n",
        "\n",
        "            if phase == \"train\":\n",
        "                loss.backward()\n",
        "                optimizer.step()\n",
        "\n",
        "            total_loss += loss.item()\n",
        "            corrects += torch.sum(pred_labels == labels.data)\n",
        "            data_size += len(labels.data)\n",
        "        acc = corrects/data_size\n",
        "        print(\"{} Loss:{:.4f} Acc:{:.4f}\".format(phase, total_loss/data_size, acc))"
      ],
      "metadata": {
        "id": "JxkXWBDncePD"
      },
      "execution_count": null,
      "outputs": []
    },
    {
      "cell_type": "markdown",
      "source": [
        "9.**テストデータの判定**"
      ],
      "metadata": {
        "id": "EqAPjooEWUFh"
      }
    },
    {
      "cell_type": "code",
      "source": [
        "#推論フェーズ\n",
        "resnet_model.eval()\n",
        "\n",
        "pred_list_4class = []\n",
        "pred_list = []\n",
        "\n",
        "for inputs, _ in image_dataloaders['test']:\n",
        "    inputs = inputs.to(devise)\n",
        "    outputs = resnet_model(inputs)\n",
        "    pred_labels = outputs.argmax(1).tolist()\n",
        "    pred_list_4class.extend(pred_labels)\n"
      ],
      "metadata": {
        "id": "DOGz1_51IOTd"
      },
      "execution_count": null,
      "outputs": []
    },
    {
      "cell_type": "markdown",
      "source": [
        "10.**不良品多クラス分類から良・不良の2値に変更**"
      ],
      "metadata": {
        "id": "hiIe9x_1WaHp"
      }
    },
    {
      "cell_type": "code",
      "source": [
        "file_list = os.listdir('/content/drive/My Drive/ManabiDXQuestPBL02PoC/02_PBL02_data/test/test/')\n",
        "for i, label in enumerate(pred_list_4class):\n",
        "    if label == 3:\n",
        "        pred_list.append(0)\n",
        "    else:\n",
        "        pred_list.append(1)"
      ],
      "metadata": {
        "id": "renX6cJjvTCl"
      },
      "execution_count": null,
      "outputs": []
    },
    {
      "cell_type": "markdown",
      "source": [
        "11.**ファイルの出力**"
      ],
      "metadata": {
        "id": "jLdiwzqZW1G_"
      }
    },
    {
      "cell_type": "code",
      "source": [
        "#ファイル出力\n",
        "df = pd.DataFrame([file_list, pred_list]).T\n",
        "df.to_csv(\"/content/drive/My Drive/ManabiDXQuestPBL02PoC/my_submission.tsv\",\n",
        "          index = False,\n",
        "          header = False,\n",
        "          sep = \"\\t\")"
      ],
      "metadata": {
        "id": "5qMrd8YUciDW"
      },
      "execution_count": null,
      "outputs": []
    },
    {
      "cell_type": "code",
      "source": [],
      "metadata": {
        "id": "DcrmvNnmcj_b"
      },
      "execution_count": null,
      "outputs": []
    }
  ]
}